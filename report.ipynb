{
 "cells": [
  {
   "cell_type": "markdown",
   "metadata": {},
   "source": [
    "# HPC Society - The Top 500 use case\n",
    "\n",
    "On the top500.org website, we can find the ranks and details of the 500 most\n",
    "powerful supercomputers in the world.\n",
    "\n",
    "First, let's have a look at the most recent list and answer a few questions :\n",
    "1. What manufacturers produce the world’s largest supercomputers ? And what type of processor do they use ?\n",
    "   - The manufacturer for the first supercomputer of the list,[Fugaku](https://www.top500.org/system/179807/) is Fujitsu, they use their own Fujitsu ARM based processors\n",
    "   - For the largest supercomputer, [Sunway Taihulight](https://www.top500.org/system/178764/) (4th in the list), which has more than 10 million cores, the manufacturer is the National Research Center of Parallel Computer Engineering & Technology (NRCPC, a national manufacturer from China's State), and they also use their own Sunway Processors.\n",
    "   - Other Manufacturers are for example IBM, Lenovo, Atos, NVIDIA...\n",
    "\n",
    "2. What fraction of peak performance is typically achieved for the LINPACK benchmark ?\n",
    "   - RPeak is the maximum number of floating operation per second, according to\n",
    "the theory and the cores' frequency. RMax is the achieved performance of Flop/s\n",
    "using the LINPACK benchmarking.\n",
    "   - For the last Top500 list, the average fraction of the theorical performance\n",
    "is **62.1%**.\n",
    "   - The worst fraction of the theorical FLop/s is **2.1%**, which is ridiculous.\n",
    "It is done by [ThinkSystem's supercomputer](https://www.top500.org/system/179753/), from Germany.\n",
    "It's theorical peak is **81 410.6** TFlop/s and it only managed to achieve\n",
    "**1 741.02** TFlop/s ! It is ranked 430 in the Green500.\n",
    "   - The best percentage is **94%** of the total occupancy. This great performance\n",
    "is achieved by an Indian supercomputer, [Pratyush](https://www.top500.org/system/179416/).\n",
    "It has a theorical peak of **4 006.2** TFlop/s and uses [Intel Xeon E5](https://ark.intel.com/content/www/us/en/ark/products/91316/intel-xeon-processor-e52695-v4-45m-cache-2-10-ghz.html) cores. (The worse one from Germany used Xeon E7 cores.)\n",
    "\n",
    "# Data import & preprocessing\n",
    "First we are going to get all our data and clean the labels and the order of\n",
    "magnitudes for some values."
   ]
  },
  {
   "cell_type": "code",
   "execution_count": 60,
   "metadata": {},
   "outputs": [
    {
     "data": {
      "text/html": [
       "<div>\n",
       "<style scoped>\n",
       "    .dataframe tbody tr th:only-of-type {\n",
       "        vertical-align: middle;\n",
       "    }\n",
       "\n",
       "    .dataframe tbody tr th {\n",
       "        vertical-align: top;\n",
       "    }\n",
       "\n",
       "    .dataframe thead th {\n",
       "        text-align: right;\n",
       "    }\n",
       "</style>\n",
       "<table border=\"1\" class=\"dataframe\">\n",
       "  <thead>\n",
       "    <tr style=\"text-align: right;\">\n",
       "      <th></th>\n",
       "      <th>n_core</th>\n",
       "      <th>rmax</th>\n",
       "      <th>rpeak</th>\n",
       "      <th>proc_speed</th>\n",
       "    </tr>\n",
       "  </thead>\n",
       "  <tbody>\n",
       "    <tr>\n",
       "      <th>0</th>\n",
       "      <td>7630848</td>\n",
       "      <td>4.420100e+08</td>\n",
       "      <td>537212000.0</td>\n",
       "      <td>2200</td>\n",
       "    </tr>\n",
       "    <tr>\n",
       "      <th>1</th>\n",
       "      <td>2414592</td>\n",
       "      <td>1.486000e+08</td>\n",
       "      <td>200794880.0</td>\n",
       "      <td>3070</td>\n",
       "    </tr>\n",
       "    <tr>\n",
       "      <th>2</th>\n",
       "      <td>1572480</td>\n",
       "      <td>9.464000e+07</td>\n",
       "      <td>125712000.0</td>\n",
       "      <td>3100</td>\n",
       "    </tr>\n",
       "    <tr>\n",
       "      <th>3</th>\n",
       "      <td>10649600</td>\n",
       "      <td>9.301459e+07</td>\n",
       "      <td>125435904.0</td>\n",
       "      <td>1450</td>\n",
       "    </tr>\n",
       "    <tr>\n",
       "      <th>4</th>\n",
       "      <td>761856</td>\n",
       "      <td>7.087000e+07</td>\n",
       "      <td>93750000.0</td>\n",
       "      <td>2450</td>\n",
       "    </tr>\n",
       "    <tr>\n",
       "      <th>...</th>\n",
       "      <td>...</td>\n",
       "      <td>...</td>\n",
       "      <td>...</td>\n",
       "      <td>...</td>\n",
       "    </tr>\n",
       "    <tr>\n",
       "      <th>495</th>\n",
       "      <td>57600</td>\n",
       "      <td>1.649110e+06</td>\n",
       "      <td>2119680.0</td>\n",
       "      <td>2300</td>\n",
       "    </tr>\n",
       "    <tr>\n",
       "      <th>496</th>\n",
       "      <td>57600</td>\n",
       "      <td>1.649110e+06</td>\n",
       "      <td>2119680.0</td>\n",
       "      <td>2300</td>\n",
       "    </tr>\n",
       "    <tr>\n",
       "      <th>497</th>\n",
       "      <td>57600</td>\n",
       "      <td>1.649110e+06</td>\n",
       "      <td>2119680.0</td>\n",
       "      <td>2300</td>\n",
       "    </tr>\n",
       "    <tr>\n",
       "      <th>498</th>\n",
       "      <td>57600</td>\n",
       "      <td>1.649110e+06</td>\n",
       "      <td>2119680.0</td>\n",
       "      <td>2300</td>\n",
       "    </tr>\n",
       "    <tr>\n",
       "      <th>499</th>\n",
       "      <td>57600</td>\n",
       "      <td>1.649110e+06</td>\n",
       "      <td>2119680.0</td>\n",
       "      <td>2300</td>\n",
       "    </tr>\n",
       "  </tbody>\n",
       "</table>\n",
       "<p>500 rows × 4 columns</p>\n",
       "</div>"
      ],
      "text/plain": [
       "       n_core          rmax        rpeak  proc_speed\n",
       "0     7630848  4.420100e+08  537212000.0        2200\n",
       "1     2414592  1.486000e+08  200794880.0        3070\n",
       "2     1572480  9.464000e+07  125712000.0        3100\n",
       "3    10649600  9.301459e+07  125435904.0        1450\n",
       "4      761856  7.087000e+07   93750000.0        2450\n",
       "..        ...           ...          ...         ...\n",
       "495     57600  1.649110e+06    2119680.0        2300\n",
       "496     57600  1.649110e+06    2119680.0        2300\n",
       "497     57600  1.649110e+06    2119680.0        2300\n",
       "498     57600  1.649110e+06    2119680.0        2300\n",
       "499     57600  1.649110e+06    2119680.0        2300\n",
       "\n",
       "[500 rows x 4 columns]"
      ]
     },
     "execution_count": 60,
     "metadata": {},
     "output_type": "execute_result"
    }
   ],
   "source": [
    "import pandas as pd\n",
    "import matplotlib.pyplot as plt\n",
    "from utils import *\n",
    "import os \n",
    "import numpy as np\n",
    "\n",
    "folder = \"TOP500_2005_2021\"\n",
    "# folder2 = \"TOP500_1993_2004\"\n",
    "\n",
    "_DS_SIZE = len([name for name in os.listdir(folder)])\n",
    "\n",
    "#example of what clean_file does\n",
    "top500_df = clean_file(folder+'/TOP500_202111.xlsx')\n",
    "top500_df"
   ]
  },
  {
   "cell_type": "markdown",
   "metadata": {},
   "source": [
    "Now we are going to keep the min, max, standard deviation and mean values of\n",
    "each period for these values :\n",
    "- Number of processors\n",
    "- Speed of processors, in MHz\n",
    "- RMax (GFlops/s)\n",
    "- RPeak (GFlops/s)"
   ]
  },
  {
   "cell_type": "code",
   "execution_count": null,
   "metadata": {},
   "outputs": [],
   "source": [
    "#min, max, mean, std, median\n",
    "rpeaks = [[],[],[],[],[]]\n",
    "rmaxs = [[],[],[],[],[]]\n",
    "n_cores = [[],[],[],[],[]]\n",
    "proc_speed = [[],[],[],[],[]]\n",
    "\n",
    "tabs = [rpeaks, rmaxs, n_cores, proc_speed]\n",
    "labels = [\"rpeak\", \"rmax\", \"n_core\", \"proc_speed\"]\n",
    "funcs = [np.min, np.max, np.mean, np.std, np.median]\n",
    "\n",
    "for file in os.listdir(folder) :\n",
    "    df = clean_file(folder + \"/\" + file)\n",
    "\n",
    "    for tab, label in zip(tabs, labels) :\n",
    "        for i, f in enumerate(funcs):\n",
    "            tab[i].append((f(df[label])))"
   ]
  },
  {
   "cell_type": "markdown",
   "metadata": {},
   "source": [
    "Let's start for example by showing the average **number of cores** and\n",
    "**cores frequency** for each period, starting in June 2005. We display these\n",
    "values with more or less the standard deviation :"
   ]
  },
  {
   "cell_type": "code",
   "execution_count": 62,
   "metadata": {},
   "outputs": [
    {
     "data": {
      "image/png": "[encoded data removed]",
      "text/plain": [
       "<Figure size 864x360 with 2 Axes>"
      ]
     },
     "metadata": {
      "needs_background": "light"
     },
     "output_type": "display_data"
    }
   ],
   "source": [
    "n_cores_np = (np.array(n_cores)) #convert to numpy arrays to plot\n",
    "proc_speed_np = (np.array(proc_speed))\n",
    "\n",
    "fig, (ax1, ax2) = plt.subplots(1,2)\n",
    "fig.set_figheight(5)\n",
    "fig.set_figwidth(12)\n",
    "\n",
    "ax1.set_title(\"Number of cores\")\n",
    "ax1.plot(n_cores_np[2]) #we plot the mean value\n",
    "ax1.fill_between(np.arange(_DS_SIZE), #our x axis is number of the period\n",
    "                 n_cores_np[2]+((n_cores_np[3])), #more the std\n",
    "                 n_cores_np[2]-((n_cores_np[3])), #less the std\n",
    "                 facecolor='blue', alpha=0.5)\n",
    "\n",
    "ax2.set_title(\"Core frequency (MHz)\")\n",
    "ax2.plot(proc_speed_np[2])\n",
    "ax2.fill_between(np.arange(_DS_SIZE),\n",
    "                 proc_speed_np[2]+(proc_speed_np[3]),\n",
    "                 proc_speed_np[2]-(proc_speed_np[3]),\n",
    "                 facecolor='blue', alpha=0.5)\n",
    "\n",
    "ax1.grid()\n",
    "ax2.grid()"
   ]
  },
  {
   "cell_type": "markdown",
   "metadata": {},
   "source": [
    "We can observe that around the 25th period, the average number of processors\n",
    "went up, while the average frequency of processors went down. \n",
    "\n",
    "The relation between processors' frequency and theirs power consumption is\n",
    "quadratic. Before the scientific community knew that, Intel released some very\n",
    "high frequency processors, but they couldn't sell it because of the power\n",
    "consumption (Xeon Phi & the [Larrabee architecture](https://en.wikipedia.org/wiki/Larrabee_(microarchitecture)#Differences_with_contemporary_GPUs),\n",
    "it was also a problem of vectorial registers and cache size that were too big).\n",
    "\n",
    "This is probably what we can observe around this 25th period in the graph. \n",
    "The average frequency dropped, but to paliate to this problem, we increased the\n",
    "number of processors.\n",
    "\n",
    "We can also see that the standard deviation is greatly increasing for the number\n",
    "of cores, and decreasing for the core frequency. This also seems logical in\n",
    "regards to what we just said, with the years, manufacturers have starting to\n",
    "all converge towards around 2.4 GHz frequency. On the other hand, in 2005, the\n",
    "minimum number of cores was **50** (most of them are around a few hundred to a\n",
    "thousand) and the maximum was **65 000**. Now, the max number of cores is\n",
    "**10 649 600** and the minimum is **1 664**, which is more than 4 orders of\n",
    "magnitude under the maximum. This explains the standard deviation's augmentation.\n",
    "Indeed, the new trend in the supercomputing world has shown that now\n",
    "supercomputers tends to be **bigger** not **faster**."
   ]
  },
  {
   "cell_type": "markdown",
   "metadata": {},
   "source": [
    "# Prediction model\n",
    "Now we are going to build a model in order to predict these values for the next\n",
    "5 years.\n",
    "\n",
    "For each feature : Number of cores, Frequency, RMax and RPeak, we are going to\n",
    "use the median value of the top 500 list for each period. This way we get rid of\n",
    "extremes values, such as China's Sunway cluster with it's 10 million cores.\n",
    "\n",
    "## Core speed\n",
    "\n",
    "First, let's make a simple KNeighborsRegressor to predict the **core frequency**.\n",
    "Since we only have 34 records, we won't split the data into a proper test and\n",
    "trainig set, but we will just hide the last value to see if our prediction\n",
    "matches at least in the order of magnitude."
   ]
  },
  {
   "cell_type": "code",
   "execution_count": 63,
   "metadata": {},
   "outputs": [
    {
     "name": "stdout",
     "output_type": "stream",
     "text": [
      "Proc speed real last value :  2396.604\n",
      "Model's estimation :  [2379.4036092]\n"
     ]
    }
   ],
   "source": [
    "from sklearn.preprocessing import StandardScaler\n",
    "from sklearn.neighbors import KNeighborsRegressor\n",
    "from sklearn.pipeline import make_pipeline\n",
    "\n",
    "#our X is the period number, from 0 to size of folder since 1 file is 1 period\n",
    "X = np.array([np.arange(_DS_SIZE-1)]).reshape(-1, 1)\n",
    "\n",
    "#here y is the number of proc\n",
    "y = np.array(proc_speed[2][:-1]) #we just hide the last lag to check our model\n",
    "\n",
    "core_speed_knregr = make_pipeline(StandardScaler(),\n",
    "                      KNeighborsRegressor(weights='distance'))\n",
    "core_speed_knregr.fit(X, y)\n",
    "\n",
    "print(\"Proc speed real last value : \", proc_speed[2][-1])\n",
    "knregr_prediction = core_speed_knregr.predict(np.array([_DS_SIZE]).reshape(-1,1))\n",
    "print(\"Model's estimation : \", knregr_prediction)\n",
    "\n",
    "#Prediction of the 5 next values\n",
    "lags = np.array([_DS_SIZE, _DS_SIZE+1, _DS_SIZE+2, _DS_SIZE+3, _DS_SIZE+4]).reshape(-1, 1)\n",
    "core_speed_prediction = core_speed_knregr.predict(lags)"
   ]
  },
  {
   "cell_type": "markdown",
   "metadata": {},
   "source": [
    "## Number of cores\n",
    "To predict the number of cores, we are going to use a model a little more\n",
    "complex : the Multi Layers Perceptron Regressor. Since we don't have a lot of\n",
    "data, we can set a really high max_iter."
   ]
  },
  {
   "cell_type": "code",
   "execution_count": 64,
   "metadata": {},
   "outputs": [
    {
     "name": "stdout",
     "output_type": "stream",
     "text": [
      "Number of cores real last value :  162520.432\n",
      "Model's estimation :  [172767.01555814]\n"
     ]
    },
    {
     "name": "stderr",
     "output_type": "stream",
     "text": [
      "C:\\conda\\envs\\projet-ml\\lib\\site-packages\\sklearn\\neural_network\\_multilayer_perceptron.py:692: ConvergenceWarning: Stochastic Optimizer: Maximum iterations (100000) reached and the optimization hasn't converged yet.\n",
      "  warnings.warn(\n"
     ]
    }
   ],
   "source": [
    "from sklearn.neural_network import MLPRegressor\n",
    "\n",
    "X = np.array([np.arange(_DS_SIZE-1)]).reshape(-1, 1)\n",
    "\n",
    "y = np.array(n_cores[2][:-1]) #[2] represents the mean value\n",
    "\n",
    "ncore_MLPregr = MLPRegressor(hidden_layer_sizes=(50,),\n",
    "                    max_iter=100000, #big max_iter because we can\n",
    "                    learning_rate='adaptive', verbose=0)\n",
    "ncore_MLPregr.fit(X, y)\n",
    "\n",
    "print(\"Number of cores real last value : \", n_cores[2][-1])\n",
    "mlp_prediction = ncore_MLPregr.predict(np.array([_DS_SIZE]).reshape(-1,1))\n",
    "print(\"Model's estimation : \", mlp_prediction)\n",
    "\n",
    "#Prediction of the 5 next values\n",
    "lags = np.array([_DS_SIZE, _DS_SIZE+1, _DS_SIZE+2, _DS_SIZE+3, _DS_SIZE+4]).reshape(-1, 1)\n",
    "ncores_prediction = ncore_MLPregr.predict(lags)"
   ]
  },
  {
   "cell_type": "markdown",
   "metadata": {},
   "source": [
    "## RPeak & RMax\n",
    "For the last features, we are going to work a little more on preprocessing.\n",
    "We will use all the TOP500 data from 1993 to 2021. The model we are going to use\n",
    "is a LinearRegression with a **PolynomialFeatures** preprocessing with a\n",
    "**degree 3**. This is equivalent to a `polyfit` from numpy."
   ]
  },
  {
   "cell_type": "code",
   "execution_count": null,
   "metadata": {},
   "outputs": [],
   "source": [
    "folder2 = \"TOP500_1993_2004\"\n",
    "\n",
    "#we'll only do the mean value for this part\n",
    "rpeaks_old_mean = []\n",
    "rmaxs_old_mean = []\n",
    "n_cores_old_mean = []\n",
    "proc_speed_old_mean = []\n",
    "\n",
    "tabs = [rpeaks_old_mean, rmaxs_old_mean, n_cores_old_mean, proc_speed_old_mean]\n",
    "labels = [\"rpeak\", \"rmax\", \"n_core\", \"proc_speed\"]\n",
    "\n",
    "for file in os.listdir(folder2) :\n",
    "    df = clean_file(folder2 + \"/\" + file)\n",
    "\n",
    "    for tab, label in zip(tabs, labels) :\n",
    "        tab.append(np.mean(df[label]))\n",
    "\n",
    "rpeaks_concat = np.array(rpeaks_old_mean + rpeaks[2])\n",
    "rmaxs_concat = np.array(rmaxs_old_mean + rmaxs[2])\n",
    "\n",
    "_CONCAT_SIZE = len(rpeaks_concat)"
   ]
  },
  {
   "cell_type": "code",
   "execution_count": 66,
   "metadata": {},
   "outputs": [
    {
     "name": "stdout",
     "output_type": "stream",
     "text": [
      "RPeak real last value :  9577789.88916\n",
      "Model's estimation :  [9427160.60339049]\n",
      "[ 9427160.60339049 10312296.62105645 11247218.64910881 12233209.53449203\n",
      " 13271552.1241505 ]\n"
     ]
    }
   ],
   "source": [
    "from sklearn.preprocessing import PolynomialFeatures\n",
    "from sklearn.linear_model import LinearRegression\n",
    "\n",
    "X = np.arange(_CONCAT_SIZE-1).reshape(-1, 1)\n",
    "y = np.array(rpeaks_concat[:-1])\n",
    "\n",
    "degree=3\n",
    "rpeak_polyreg=make_pipeline(PolynomialFeatures(degree),LinearRegression())\n",
    "# rpeak_polyreg=make_pipeline(LinearRegression())\n",
    "rpeak_polyreg.fit(X,y)\n",
    "\n",
    "print(\"RPeak real last value : \", (rpeaks_concat[-1]))\n",
    "print(\"Model's estimation : \", (rpeak_polyreg.predict(np.array([_CONCAT_SIZE]).reshape(-1,1))))\n",
    "\n",
    "#5 next values\n",
    "lags = np.array([_CONCAT_SIZE, _CONCAT_SIZE+1, _CONCAT_SIZE+2, _CONCAT_SIZE+3, _CONCAT_SIZE+4]).reshape(-1, 1)\n",
    "print(rpeak_polyreg.predict(lags))"
   ]
  },
  {
   "cell_type": "code",
   "execution_count": 67,
   "metadata": {},
   "outputs": [
    {
     "name": "stdout",
     "output_type": "stream",
     "text": [
      "RMax real last value :  6073723.56754\n",
      "Model's estimation :  [5922474.93953915]\n",
      "[5922474.93953915 6473393.71970994 7055120.31841862 7668445.5247909\n",
      " 8314160.12795247]\n"
     ]
    }
   ],
   "source": [
    "X = np.arange(_CONCAT_SIZE-1).reshape(-1, 1)\n",
    "y = np.array(rmaxs_concat[:-1])\n",
    "\n",
    "rmax_polyreg=make_pipeline(PolynomialFeatures(degree),LinearRegression())\n",
    "rmax_polyreg.fit(X,y)\n",
    "\n",
    "print(\"RMax real last value : \", (rmaxs_concat[-1]))\n",
    "print(\"Model's estimation : \", (rmax_polyreg.predict(np.array([_CONCAT_SIZE]).reshape(-1,1))))\n",
    "\n",
    "#5 next values\n",
    "lags = np.array([_CONCAT_SIZE, _CONCAT_SIZE+1, _CONCAT_SIZE+2, _CONCAT_SIZE+3, _CONCAT_SIZE+4]).reshape(-1, 1)\n",
    "print(rmax_polyreg.predict(lags))"
   ]
  },
  {
   "cell_type": "markdown",
   "metadata": {},
   "source": [
    "# Results\n",
    "\n",
    "Moore's Law affirms taht every 18 months, the number of transistors in a chip\n",
    "is multiplied by two. This leads to more speed in our cores. \n",
    "\n",
    "What we can observ here :\n",
    "- **Core speed** : Not following Moore's law anymore, seems to have stabilized\n",
    "at around 2,3 - 2,4 GHz in average.\n",
    "- **Number of proc** : For this feature, on the other hand, it seems to follow\n",
    "an almost-linear model. Since we cannot increase the speed of our cores, because\n",
    "of the power consumption, we are going to increase the number of processors.\n",
    "- **RMax & RPeak** : These are the actual values that we are interested in to\n",
    "reach the exascale. "
   ]
  },
  {
   "cell_type": "code",
   "execution_count": 68,
   "metadata": {},
   "outputs": [
    {
     "data": {
      "image/png": "[encoded data removed]",
      "text/plain": [
       "<Figure size 432x288 with 1 Axes>"
      ]
     },
     "metadata": {
      "needs_background": "light"
     },
     "output_type": "display_data"
    }
   ],
   "source": [
    "# lags = np.array([_DS_SIZE, _DS_SIZE+1, _DS_SIZE+2, _DS_SIZE+3, _DS_SIZE+4]).reshape(-1, 1)\n",
    "lags = np.arange(_DS_SIZE+5).reshape(-1, 1)\n",
    "core_speed_prediction = core_speed_knregr.predict(lags)\n",
    "plt.plot(core_speed_prediction, '--')\n",
    "plt.plot(proc_speed[2])\n",
    "plt.title(\"Prediction of average core's speed for the next 5 years\")\n",
    "plt.grid()"
   ]
  },
  {
   "cell_type": "code",
   "execution_count": 69,
   "metadata": {},
   "outputs": [
    {
     "data": {
      "image/png": "[encoded data removed]",
      "text/plain": [
       "<Figure size 432x288 with 1 Axes>"
      ]
     },
     "metadata": {
      "needs_background": "light"
     },
     "output_type": "display_data"
    }
   ],
   "source": [
    "ncores_prediction = ncore_MLPregr.predict(lags)\n",
    "plt.plot(ncores_prediction, '--')\n",
    "plt.plot(n_cores[2])\n",
    "plt.title(\"Prediction of average number of cores for the next 5 years\")\n",
    "plt.grid()"
   ]
  },
  {
   "cell_type": "code",
   "execution_count": 70,
   "metadata": {},
   "outputs": [
    {
     "data": {
      "image/png": "[encoded data removed]",
      "text/plain": [
       "<Figure size 432x288 with 1 Axes>"
      ]
     },
     "metadata": {
      "needs_background": "light"
     },
     "output_type": "display_data"
    }
   ],
   "source": [
    "full_lags = np.arange(_CONCAT_SIZE + 5)\n",
    "rpeak_prediction = rpeak_polyreg.predict(full_lags.reshape(-1,1))\n",
    "plt.plot(np.arange(start=_CONCAT_SIZE-1, stop=_CONCAT_SIZE+5), np.log(rpeak_prediction[-6:]), '--')\n",
    "plt.plot(np.log(rpeaks_concat))\n",
    "plt.title(\"Prediction of average RPeak for the next 5 years\")\n",
    "plt.grid()"
   ]
  },
  {
   "cell_type": "code",
   "execution_count": 71,
   "metadata": {},
   "outputs": [
    {
     "data": {
      "image/png": "[encoded data removed]",
      "text/plain": [
       "<Figure size 432x288 with 1 Axes>"
      ]
     },
     "metadata": {
      "needs_background": "light"
     },
     "output_type": "display_data"
    }
   ],
   "source": [
    "rmax_pred = rmax_polyreg.predict(full_lags.reshape(-1,1))\n",
    "plt.plot(np.arange(start=_CONCAT_SIZE-1, stop=_CONCAT_SIZE+5), (rmax_pred[-6:]), '--')\n",
    "plt.plot((rmaxs_concat))\n",
    "plt.title(\"Prediction of average RMax for the next 5 years\")\n",
    "plt.grid()"
   ]
  },
  {
   "cell_type": "markdown",
   "metadata": {},
   "source": [
    "These 3 last features seem to still respect Moore's law. If we keep going like\n",
    "this, we will reach the (theorical) exascale in juste a few years.\n",
    "\n",
    "# Ameliorations\n",
    "- Train the model to learn the **maximum** RMax instead of the average.\n",
    "- More preprocessing\n",
    "- Use more features of the excels sheets"
   ]
  }
 ],
 "metadata": {
  "interpreter": {
   "hash": "acb77cfd0caafe1fb7be5ed5e46e9f9c8ca50c2e85ab866fdd2f52b1c2112c88"
  },
  "kernelspec": {
   "display_name": "Python 3.10.1 ('projet-ml')",
   "language": "python",
   "name": "python3"
  },
  "language_info": {
   "codemirror_mode": {
    "name": "ipython",
    "version": 3
   },
   "file_extension": ".py",
   "mimetype": "text/x-python",
   "name": "python",
   "nbconvert_exporter": "python",
   "pygments_lexer": "ipython3",
   "version": "3.10.1"
  },
  "orig_nbformat": 4
 },
 "nbformat": 4,
 "nbformat_minor": 2
}
