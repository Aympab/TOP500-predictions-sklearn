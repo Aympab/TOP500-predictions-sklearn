{
 "cells": [
  {
   "cell_type": "markdown",
   "metadata": {},
   "source": [
    "# Peak Performance Analysis\n",
    "\n",
    "In this section we are going to observe what fraction of the theorical\n",
    "performance (RPeak) is achieved (RMax)."
   ]
  },
  {
   "cell_type": "code",
   "execution_count": 1,
   "metadata": {},
   "outputs": [],
   "source": [
    "import pandas as pd\n",
    "import matplotlib.pyplot as plt\n",
    "from utils import *\n",
    "import os \n",
    "import numpy as np\n",
    "\n",
    "file = \"TOP500_2005_2021/TOP500_202111.xlsx\"\n",
    "\n",
    "top500_df = clean_file(file)"
   ]
  },
  {
   "cell_type": "code",
   "execution_count": 7,
   "metadata": {},
   "outputs": [
    {
     "name": "stdout",
     "output_type": "stream",
     "text": [
      "Min : 0.021\n",
      "Max : 0.94\n",
      "Mean : 0.621\n"
     ]
    }
   ],
   "source": [
    "#compute the fraction of rmax/rpeak for each row\n",
    "perf_frac = top500_df['rmax'] / top500_df['rpeak']\n",
    "\n",
    "print(\"Min :\", round(np.min(perf_frac), 3))\n",
    "print(\"Max :\", round(np.max(perf_frac), 3))\n",
    "print(\"Mean :\", round(np.mean(perf_frac),3))"
   ]
  },
  {
   "cell_type": "code",
   "execution_count": 13,
   "metadata": {},
   "outputs": [
    {
     "name": "stdout",
     "output_type": "stream",
     "text": [
      "418\n",
      "120\n"
     ]
    }
   ],
   "source": [
    "index_min = np.where(perf_frac == np.amin(perf_frac))\n",
    "print(index_min[0][0])\n",
    "index_max = np.where(perf_frac == np.amax(perf_frac))\n",
    "print(index_max[0][0])"
   ]
  },
  {
   "cell_type": "code",
   "execution_count": null,
   "metadata": {},
   "outputs": [],
   "source": []
  }
 ],
 "metadata": {
  "interpreter": {
   "hash": "acb77cfd0caafe1fb7be5ed5e46e9f9c8ca50c2e85ab866fdd2f52b1c2112c88"
  },
  "kernelspec": {
   "display_name": "Python 3.10.1 ('projet-ml')",
   "language": "python",
   "name": "python3"
  },
  "language_info": {
   "codemirror_mode": {
    "name": "ipython",
    "version": 3
   },
   "file_extension": ".py",
   "mimetype": "text/x-python",
   "name": "python",
   "nbconvert_exporter": "python",
   "pygments_lexer": "ipython3",
   "version": "3.10.1"
  },
  "orig_nbformat": 4
 },
 "nbformat": 4,
 "nbformat_minor": 2
}
